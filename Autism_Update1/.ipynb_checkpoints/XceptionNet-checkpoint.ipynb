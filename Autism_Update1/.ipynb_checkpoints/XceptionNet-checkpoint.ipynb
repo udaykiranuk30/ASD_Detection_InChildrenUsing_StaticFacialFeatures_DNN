{
 "cells": [
  {
   "cell_type": "code",
   "execution_count": 1,
   "metadata": {
    "execution": {
     "iopub.execute_input": "2021-09-01T18:50:18.372818Z",
     "iopub.status.busy": "2021-09-01T18:50:18.372466Z",
     "iopub.status.idle": "2021-09-01T18:50:18.384003Z",
     "shell.execute_reply": "2021-09-01T18:50:18.382979Z",
     "shell.execute_reply.started": "2021-09-01T18:50:18.372781Z"
    }
   },
   "outputs": [
    {
     "name": "stderr",
     "output_type": "stream",
     "text": [
      "Using TensorFlow backend.\n",
      "C:\\Users\\nagas\\anaconda3\\envs\\ml\\lib\\site-packages\\tensorflow\\python\\framework\\dtypes.py:516: FutureWarning: Passing (type, 1) or '1type' as a synonym of type is deprecated; in a future version of numpy, it will be understood as (type, (1,)) / '(1,)type'.\n",
      "  _np_qint8 = np.dtype([(\"qint8\", np.int8, 1)])\n",
      "C:\\Users\\nagas\\anaconda3\\envs\\ml\\lib\\site-packages\\tensorflow\\python\\framework\\dtypes.py:517: FutureWarning: Passing (type, 1) or '1type' as a synonym of type is deprecated; in a future version of numpy, it will be understood as (type, (1,)) / '(1,)type'.\n",
      "  _np_quint8 = np.dtype([(\"quint8\", np.uint8, 1)])\n",
      "C:\\Users\\nagas\\anaconda3\\envs\\ml\\lib\\site-packages\\tensorflow\\python\\framework\\dtypes.py:518: FutureWarning: Passing (type, 1) or '1type' as a synonym of type is deprecated; in a future version of numpy, it will be understood as (type, (1,)) / '(1,)type'.\n",
      "  _np_qint16 = np.dtype([(\"qint16\", np.int16, 1)])\n",
      "C:\\Users\\nagas\\anaconda3\\envs\\ml\\lib\\site-packages\\tensorflow\\python\\framework\\dtypes.py:519: FutureWarning: Passing (type, 1) or '1type' as a synonym of type is deprecated; in a future version of numpy, it will be understood as (type, (1,)) / '(1,)type'.\n",
      "  _np_quint16 = np.dtype([(\"quint16\", np.uint16, 1)])\n",
      "C:\\Users\\nagas\\anaconda3\\envs\\ml\\lib\\site-packages\\tensorflow\\python\\framework\\dtypes.py:520: FutureWarning: Passing (type, 1) or '1type' as a synonym of type is deprecated; in a future version of numpy, it will be understood as (type, (1,)) / '(1,)type'.\n",
      "  _np_qint32 = np.dtype([(\"qint32\", np.int32, 1)])\n",
      "C:\\Users\\nagas\\anaconda3\\envs\\ml\\lib\\site-packages\\tensorflow\\python\\framework\\dtypes.py:525: FutureWarning: Passing (type, 1) or '1type' as a synonym of type is deprecated; in a future version of numpy, it will be understood as (type, (1,)) / '(1,)type'.\n",
      "  np_resource = np.dtype([(\"resource\", np.ubyte, 1)])\n"
     ]
    },
    {
     "name": "stdout",
     "output_type": "stream",
     "text": [
      "1.14.0\n"
     ]
    },
    {
     "name": "stderr",
     "output_type": "stream",
     "text": [
      "C:\\Users\\nagas\\anaconda3\\envs\\ml\\lib\\site-packages\\tensorboard\\compat\\tensorflow_stub\\dtypes.py:541: FutureWarning: Passing (type, 1) or '1type' as a synonym of type is deprecated; in a future version of numpy, it will be understood as (type, (1,)) / '(1,)type'.\n",
      "  _np_qint8 = np.dtype([(\"qint8\", np.int8, 1)])\n",
      "C:\\Users\\nagas\\anaconda3\\envs\\ml\\lib\\site-packages\\tensorboard\\compat\\tensorflow_stub\\dtypes.py:542: FutureWarning: Passing (type, 1) or '1type' as a synonym of type is deprecated; in a future version of numpy, it will be understood as (type, (1,)) / '(1,)type'.\n",
      "  _np_quint8 = np.dtype([(\"quint8\", np.uint8, 1)])\n",
      "C:\\Users\\nagas\\anaconda3\\envs\\ml\\lib\\site-packages\\tensorboard\\compat\\tensorflow_stub\\dtypes.py:543: FutureWarning: Passing (type, 1) or '1type' as a synonym of type is deprecated; in a future version of numpy, it will be understood as (type, (1,)) / '(1,)type'.\n",
      "  _np_qint16 = np.dtype([(\"qint16\", np.int16, 1)])\n",
      "C:\\Users\\nagas\\anaconda3\\envs\\ml\\lib\\site-packages\\tensorboard\\compat\\tensorflow_stub\\dtypes.py:544: FutureWarning: Passing (type, 1) or '1type' as a synonym of type is deprecated; in a future version of numpy, it will be understood as (type, (1,)) / '(1,)type'.\n",
      "  _np_quint16 = np.dtype([(\"quint16\", np.uint16, 1)])\n",
      "C:\\Users\\nagas\\anaconda3\\envs\\ml\\lib\\site-packages\\tensorboard\\compat\\tensorflow_stub\\dtypes.py:545: FutureWarning: Passing (type, 1) or '1type' as a synonym of type is deprecated; in a future version of numpy, it will be understood as (type, (1,)) / '(1,)type'.\n",
      "  _np_qint32 = np.dtype([(\"qint32\", np.int32, 1)])\n",
      "C:\\Users\\nagas\\anaconda3\\envs\\ml\\lib\\site-packages\\tensorboard\\compat\\tensorflow_stub\\dtypes.py:550: FutureWarning: Passing (type, 1) or '1type' as a synonym of type is deprecated; in a future version of numpy, it will be understood as (type, (1,)) / '(1,)type'.\n",
      "  np_resource = np.dtype([(\"resource\", np.ubyte, 1)])\n"
     ]
    }
   ],
   "source": [
    "import os\n",
    "import cv2\n",
    "import numpy as np\n",
    "import matplotlib.pyplot as plt\n",
    "from tqdm import tqdm\n",
    "from sklearn.metrics import confusion_matrix\n",
    "import seaborn as sns\n",
    "\n",
    "from keras.utils import np_utils\n",
    "from keras.preprocessing.image import ImageDataGenerator\n",
    "from tensorflow.keras.applications.xception import Xception\n",
    "from tensorflow.keras.models import Sequential\n",
    "from tensorflow.keras.layers import GlobalAveragePooling2D, Dropout, Dense, Conv2D\n",
    "\n",
    "from sklearn.model_selection import train_test_split\n",
    "\n",
    "import tensorflow as tf\n",
    "print(tf.__version__)"
   ]
  },
  {
   "cell_type": "code",
   "execution_count": 2,
   "metadata": {
    "_cell_guid": "79c7e3d0-c299-4dcb-8224-4455121ee9b0",
    "_uuid": "d629ff2d2480ee46fbb7e2d37f6b5fab8052498a",
    "execution": {
     "iopub.execute_input": "2021-09-01T18:50:18.387037Z",
     "iopub.status.busy": "2021-09-01T18:50:18.386437Z",
     "iopub.status.idle": "2021-09-01T18:50:18.407401Z",
     "shell.execute_reply": "2021-09-01T18:50:18.406549Z",
     "shell.execute_reply.started": "2021-09-01T18:50:18.386997Z"
    }
   },
   "outputs": [],
   "source": [
    "fpath = 'C:\\\\Users\\\\nagas\\\\Downloads\\\\Autism\\\\Autism Dataset\\\\Autism Dataset\\\\train\\\\'\n",
    "categories = os.listdir(fpath)"
   ]
  },
  {
   "cell_type": "code",
   "execution_count": 3,
   "metadata": {},
   "outputs": [
    {
     "data": {
      "text/plain": [
       "['Autistic', 'Non_Autistic']"
      ]
     },
     "execution_count": 3,
     "metadata": {},
     "output_type": "execute_result"
    }
   ],
   "source": [
    "categories "
   ]
  },
  {
   "cell_type": "code",
   "execution_count": 4,
   "metadata": {
    "execution": {
     "iopub.execute_input": "2021-09-01T18:50:18.410102Z",
     "iopub.status.busy": "2021-09-01T18:50:18.409501Z",
     "iopub.status.idle": "2021-09-01T18:50:35.559308Z",
     "shell.execute_reply": "2021-09-01T18:50:35.558539Z",
     "shell.execute_reply.started": "2021-09-01T18:50:18.410058Z"
    }
   },
   "outputs": [
    {
     "name": "stdout",
     "output_type": "stream",
     "text": [
      "folder 0\n"
     ]
    },
    {
     "name": "stderr",
     "output_type": "stream",
     "text": [
      "100%|███████████████████████████████████████████████████████████████████████████████| 418/418 [00:00<00:00, 501.94it/s]\n"
     ]
    },
    {
     "name": "stdout",
     "output_type": "stream",
     "text": [
      "folder 1\n"
     ]
    },
    {
     "name": "stderr",
     "output_type": "stream",
     "text": [
      "100%|███████████████████████████████████████████████████████████████████████████████| 185/185 [00:00<00:00, 485.59it/s]\n"
     ]
    },
    {
     "name": "stdout",
     "output_type": "stream",
     "text": [
      "(603, 299, 299, 3)\n",
      "(603,)\n"
     ]
    }
   ],
   "source": [
    "imgsize = 299\n",
    "X = []\n",
    "Y = []\n",
    "n_classes = 2\n",
    "\n",
    "for index, folder in enumerate(categories[:n_classes]):\n",
    "    path = os.path.join(fpath,folder)\n",
    "    print(\"folder\",index)\n",
    "    for img in tqdm(os.listdir(path)):\n",
    "        Ipath = os.path.join(path,img)\n",
    "        img = cv2.imread(Ipath,cv2.IMREAD_COLOR)\n",
    "        img = cv2.resize(img,(imgsize,imgsize))\n",
    "        X.append(np.array(img))\n",
    "        Y.append(index)\n",
    "\n",
    "X = np.array(X).astype('float16')\n",
    "Y = np.array(Y)\n",
    "print(X.shape)\n",
    "print(Y.shape)"
   ]
  },
  {
   "cell_type": "code",
   "execution_count": 5,
   "metadata": {
    "execution": {
     "iopub.execute_input": "2021-09-01T18:50:35.562468Z",
     "iopub.status.busy": "2021-09-01T18:50:35.561827Z",
     "iopub.status.idle": "2021-09-01T18:50:35.864028Z",
     "shell.execute_reply": "2021-09-01T18:50:35.863232Z",
     "shell.execute_reply.started": "2021-09-01T18:50:35.562426Z"
    }
   },
   "outputs": [],
   "source": [
    "labels = np_utils.to_categorical(Y, n_classes)\n",
    "\n",
    "trainImg, testImg, trainLabel, testLabel = train_test_split(X, labels,  test_size=0.3,random_state=69)"
   ]
  },
  {
   "cell_type": "code",
   "execution_count": 6,
   "metadata": {
    "execution": {
     "iopub.execute_input": "2021-09-01T18:50:35.867331Z",
     "iopub.status.busy": "2021-09-01T18:50:35.866951Z",
     "iopub.status.idle": "2021-09-01T18:50:35.874462Z",
     "shell.execute_reply": "2021-09-01T18:50:35.873309Z",
     "shell.execute_reply.started": "2021-09-01T18:50:35.867288Z"
    }
   },
   "outputs": [],
   "source": [
    "#to save memory\n",
    "labels = None \n",
    "X = None"
   ]
  },
  {
   "cell_type": "code",
   "execution_count": 7,
   "metadata": {
    "execution": {
     "iopub.execute_input": "2021-09-01T18:50:35.876625Z",
     "iopub.status.busy": "2021-09-01T18:50:35.876232Z",
     "iopub.status.idle": "2021-09-01T18:50:40.540425Z",
     "shell.execute_reply": "2021-09-01T18:50:40.539700Z",
     "shell.execute_reply.started": "2021-09-01T18:50:35.876586Z"
    }
   },
   "outputs": [
    {
     "name": "stdout",
     "output_type": "stream",
     "text": [
      "WARNING:tensorflow:From C:\\Users\\nagas\\anaconda3\\envs\\ml\\lib\\site-packages\\tensorflow\\python\\ops\\init_ops.py:1251: calling VarianceScaling.__init__ (from tensorflow.python.ops.init_ops) with dtype is deprecated and will be removed in a future version.\n",
      "Instructions for updating:\n",
      "Call initializer instance with the dtype argument instead of passing it to the constructor\n",
      "Model: \"sequential\"\n",
      "_________________________________________________________________\n",
      "Layer (type)                 Output Shape              Param #   \n",
      "=================================================================\n",
      "xception (Model)             (None, 1000)              22910480  \n",
      "_________________________________________________________________\n",
      "dense (Dense)                (None, 2)                 2002      \n",
      "=================================================================\n",
      "Total params: 22,912,482\n",
      "Trainable params: 22,857,954\n",
      "Non-trainable params: 54,528\n",
      "_________________________________________________________________\n"
     ]
    }
   ],
   "source": [
    "from keras.applications.imagenet_utils import preprocess_input\n",
    "augs_gen = ImageDataGenerator(preprocessing_function=preprocess_input,featurewise_center=False,  \n",
    "        samplewise_center=False, \n",
    "        featurewise_std_normalization=False,  \n",
    "        samplewise_std_normalization=False,  \n",
    "        zca_whitening=False,  \n",
    "        rotation_range=10,  \n",
    "        zoom_range = 0.1, \n",
    "        width_shift_range=0.2,  \n",
    "        height_shift_range=0.2, \n",
    "        horizontal_flip=True,  \n",
    "        vertical_flip=False)\n",
    "\n",
    "augs_gen.fit(trainImg)\n",
    "\n",
    "model = Xception()\n",
    "new_model = Sequential()\n",
    "new_model.add(model)\n",
    "\n",
    "model=new_model\n",
    "\n",
    "model.add(Dense(n_classes,activation='softmax'))\n",
    "model.summary()\n",
    "\n",
    "model.compile(\n",
    "    loss='categorical_crossentropy',\n",
    "    optimizer='adam',\n",
    "    metrics=['accuracy']\n",
    ")\n"
   ]
  },
  {
   "cell_type": "code",
   "execution_count": 8,
   "metadata": {
    "execution": {
     "iopub.execute_input": "2021-09-01T18:50:40.551092Z",
     "iopub.status.busy": "2021-09-01T18:50:40.550337Z",
     "iopub.status.idle": "2021-09-01T19:00:24.637765Z",
     "shell.execute_reply": "2021-09-01T19:00:24.636915Z",
     "shell.execute_reply.started": "2021-09-01T18:50:40.551051Z"
    }
   },
   "outputs": [
    {
     "name": "stdout",
     "output_type": "stream",
     "text": [
      "Epoch 1/40\n",
      "14/14 [==============================] - 384s 27s/step - loss: 0.6741 - acc: 0.6659 - val_loss: 0.6764 - val_acc: 0.7127\n",
      "Epoch 2/40\n",
      "14/14 [==============================] - 380s 27s/step - loss: 0.6513 - acc: 0.6848 - val_loss: 0.6720 - val_acc: 0.7127\n",
      "Epoch 3/40\n",
      "14/14 [==============================] - 372s 27s/step - loss: 0.6446 - acc: 0.6848 - val_loss: 0.6338 - val_acc: 0.7127\n",
      "Epoch 4/40\n",
      "14/14 [==============================] - 370s 26s/step - loss: 0.6311 - acc: 0.6848 - val_loss: 0.6385 - val_acc: 0.7127\n",
      "Epoch 5/40\n",
      "14/14 [==============================] - 370s 26s/step - loss: 0.6198 - acc: 0.6848 - val_loss: 0.6955 - val_acc: 0.3039\n",
      "Epoch 6/40\n",
      "14/14 [==============================] - 366s 26s/step - loss: 0.6140 - acc: 0.6919 - val_loss: 0.6118 - val_acc: 0.7459\n",
      "Epoch 7/40\n",
      "14/14 [==============================] - 379s 27s/step - loss: 0.5958 - acc: 0.7133 - val_loss: 0.6175 - val_acc: 0.7127\n",
      "Epoch 8/40\n",
      "14/14 [==============================] - 374s 27s/step - loss: 0.5884 - acc: 0.7678 - val_loss: 0.6079 - val_acc: 0.7293\n",
      "Epoch 9/40\n",
      "14/14 [==============================] - 366s 26s/step - loss: 0.5835 - acc: 0.7583 - val_loss: 0.6244 - val_acc: 0.6298\n",
      "Epoch 10/40\n",
      "14/14 [==============================] - 372s 27s/step - loss: 0.5693 - acc: 0.8009 - val_loss: 0.7526 - val_acc: 0.2873\n",
      "Epoch 11/40\n",
      "14/14 [==============================] - 389s 28s/step - loss: 0.5583 - acc: 0.8152 - val_loss: 0.7594 - val_acc: 0.2873\n",
      "Epoch 12/40\n",
      "14/14 [==============================] - 385s 27s/step - loss: 0.5722 - acc: 0.7654 - val_loss: 0.6326 - val_acc: 0.6298\n",
      "Epoch 13/40\n",
      "14/14 [==============================] - 487s 35s/step - loss: 0.5834 - acc: 0.7370 - val_loss: 0.7679 - val_acc: 0.2873\n",
      "Epoch 14/40\n",
      "14/14 [==============================] - 388s 28s/step - loss: 0.5529 - acc: 0.7749 - val_loss: 0.6018 - val_acc: 0.7127\n",
      "Epoch 15/40\n",
      "14/14 [==============================] - 382s 27s/step - loss: 0.5825 - acc: 0.7133 - val_loss: 0.7723 - val_acc: 0.2873\n",
      "Epoch 16/40\n",
      "14/14 [==============================] - 391s 28s/step - loss: 0.5680 - acc: 0.7607 - val_loss: 0.7751 - val_acc: 0.2818\n",
      "Epoch 17/40\n",
      "14/14 [==============================] - 386s 28s/step - loss: 0.5540 - acc: 0.7796 - val_loss: 0.7708 - val_acc: 0.2873\n",
      "Epoch 18/40\n",
      "14/14 [==============================] - 383s 27s/step - loss: 0.5462 - acc: 0.7867 - val_loss: 0.7755 - val_acc: 0.2818\n",
      "Epoch 19/40\n",
      "14/14 [==============================] - 379s 27s/step - loss: 0.5326 - acc: 0.7749 - val_loss: 0.6343 - val_acc: 0.6464\n",
      "Epoch 20/40\n",
      "14/14 [==============================] - 382s 27s/step - loss: 0.5038 - acc: 0.8365 - val_loss: 0.6841 - val_acc: 0.5193\n",
      "Epoch 21/40\n",
      "14/14 [==============================] - 374s 27s/step - loss: 0.5023 - acc: 0.8128 - val_loss: 0.6684 - val_acc: 0.5470\n",
      "Epoch 22/40\n",
      "14/14 [==============================] - 369s 26s/step - loss: 0.4971 - acc: 0.8246 - val_loss: 0.6370 - val_acc: 0.5580\n",
      "Epoch 23/40\n",
      "14/14 [==============================] - 371s 27s/step - loss: 0.4810 - acc: 0.8294 - val_loss: 0.5583 - val_acc: 0.7293\n",
      "Epoch 24/40\n",
      "14/14 [==============================] - 372s 27s/step - loss: 0.4957 - acc: 0.8270 - val_loss: 0.5565 - val_acc: 0.7348\n",
      "Epoch 25/40\n",
      "14/14 [==============================] - 487s 35s/step - loss: 0.4730 - acc: 0.8294 - val_loss: 0.5800 - val_acc: 0.7293\n",
      "Epoch 26/40\n",
      "14/14 [==============================] - 415s 30s/step - loss: 0.4741 - acc: 0.8483 - val_loss: 0.5848 - val_acc: 0.7459\n",
      "Epoch 27/40\n",
      "14/14 [==============================] - 405s 29s/step - loss: 0.4733 - acc: 0.8436 - val_loss: 0.5589 - val_acc: 0.7403\n",
      "Epoch 28/40\n",
      "14/14 [==============================] - 399s 29s/step - loss: 0.4533 - acc: 0.8626 - val_loss: 0.5874 - val_acc: 0.7348\n",
      "Epoch 29/40\n",
      "14/14 [==============================] - 377s 27s/step - loss: 0.4773 - acc: 0.8199 - val_loss: 0.6093 - val_acc: 0.7127\n",
      "Epoch 30/40\n",
      "14/14 [==============================] - 382s 27s/step - loss: 0.4776 - acc: 0.8223 - val_loss: 0.7600 - val_acc: 0.4530\n",
      "Epoch 31/40\n",
      "14/14 [==============================] - 375s 27s/step - loss: 0.4555 - acc: 0.8341 - val_loss: 0.6355 - val_acc: 0.5801\n",
      "Epoch 32/40\n",
      "14/14 [==============================] - 390s 28s/step - loss: 0.4629 - acc: 0.8294 - val_loss: 0.5259 - val_acc: 0.7403\n",
      "Epoch 33/40\n",
      "14/14 [==============================] - 389s 28s/step - loss: 0.4409 - acc: 0.8365 - val_loss: 0.5139 - val_acc: 0.7680\n",
      "Epoch 34/40\n",
      "14/14 [==============================] - 377s 27s/step - loss: 0.4355 - acc: 0.8460 - val_loss: 0.5027 - val_acc: 0.7790\n",
      "Epoch 35/40\n",
      "14/14 [==============================] - 379s 27s/step - loss: 0.4508 - acc: 0.8294 - val_loss: 0.5014 - val_acc: 0.7680\n",
      "Epoch 36/40\n",
      "14/14 [==============================] - 369s 26s/step - loss: 0.4622 - acc: 0.8270 - val_loss: 0.6086 - val_acc: 0.6133\n",
      "Epoch 37/40\n",
      "14/14 [==============================] - 380s 27s/step - loss: 0.4395 - acc: 0.8389 - val_loss: 0.7097 - val_acc: 0.4807\n",
      "Epoch 38/40\n",
      "14/14 [==============================] - 395s 28s/step - loss: 0.4339 - acc: 0.8578 - val_loss: 0.5847 - val_acc: 0.6409\n",
      "Epoch 39/40\n",
      "14/14 [==============================] - 387s 28s/step - loss: 0.4067 - acc: 0.8744 - val_loss: 0.5830 - val_acc: 0.6409\n",
      "Epoch 40/40\n",
      "14/14 [==============================] - 366s 26s/step - loss: 0.3996 - acc: 0.8720 - val_loss: 0.6873 - val_acc: 0.5028\n"
     ]
    }
   ],
   "source": [
    "h = model.fit(augs_gen.flow(trainImg,trainLabel), epochs = 40, verbose = 1, batch_size = 128,\n",
    "              validation_data  = (preprocess_input(testImg),testLabel))"
   ]
  },
  {
   "cell_type": "code",
   "execution_count": 9,
   "metadata": {
    "execution": {
     "iopub.execute_input": "2021-09-01T19:00:24.641718Z",
     "iopub.status.busy": "2021-09-01T19:00:24.641437Z",
     "iopub.status.idle": "2021-09-01T19:00:24.924576Z",
     "shell.execute_reply": "2021-09-01T19:00:24.923622Z",
     "shell.execute_reply.started": "2021-09-01T19:00:24.641689Z"
    }
   },
   "outputs": [
    {
     "data": {
      "image/png": "[encoded data removed]",
      "text/plain": [
       "<Figure size 720x360 with 2 Axes>"
      ]
     },
     "metadata": {
      "needs_background": "light"
     },
     "output_type": "display_data"
    },
    {
     "name": "stdout",
     "output_type": "stream",
     "text": [
      "Best Validation Accuracy: 77.90055274963379%\n"
     ]
    }
   ],
   "source": [
    "plt.figure(figsize = (10,5))\n",
    "plt.subplot(1,2,1)\n",
    "plt.plot(h.history['acc'],     label = 'Train')\n",
    "plt.plot(h.history['val_acc'], label = 'Validation')\n",
    "plt.title('Accuracy')\n",
    "plt.legend(loc = 'upper left')\n",
    "\n",
    "plt.subplot(1,2,2)\n",
    "plt.plot(h.history['loss']    ,label = 'Train')\n",
    "plt.plot(h.history['val_loss'],label = 'Validation')\n",
    "plt.title('Loss')\n",
    "plt.legend(loc = 'upper left')\n",
    "plt.show()\n",
    "\n",
    "max_val_acc = 100*np.max(h.history['val_acc'])\n",
    "print(\"Best Validation Accuracy: {}%\".format(max_val_acc))"
   ]
  },
  {
   "cell_type": "code",
   "execution_count": 10,
   "metadata": {
    "execution": {
     "iopub.execute_input": "2021-09-01T19:00:24.926815Z",
     "iopub.status.busy": "2021-09-01T19:00:24.926164Z",
     "iopub.status.idle": "2021-09-01T19:00:28.168614Z",
     "shell.execute_reply": "2021-09-01T19:00:28.167848Z",
     "shell.execute_reply.started": "2021-09-01T19:00:24.926770Z"
    }
   },
   "outputs": [],
   "source": [
    "pred = np.argmax(model.predict(preprocess_input(testImg)), axis = -1)\n",
    "y = np.argmax(testLabel, axis = -1)\n",
    "cm = confusion_matrix(pred, y)"
   ]
  },
  {
   "cell_type": "code",
   "execution_count": 11,
   "metadata": {
    "execution": {
     "iopub.execute_input": "2021-09-01T19:00:28.170514Z",
     "iopub.status.busy": "2021-09-01T19:00:28.170137Z",
     "iopub.status.idle": "2021-09-01T19:00:29.150184Z",
     "shell.execute_reply": "2021-09-01T19:00:29.149243Z",
     "shell.execute_reply.started": "2021-09-01T19:00:28.170474Z"
    }
   },
   "outputs": [
    {
     "name": "stdout",
     "output_type": "stream",
     "text": [
      "          Confusion Matrix     \n",
      "\n"
     ]
    },
    {
     "data": {
      "image/png": "[encoded data removed]",
      "text/plain": [
       "<Figure size 504x504 with 1 Axes>"
      ]
     },
     "metadata": {
      "needs_background": "light"
     },
     "output_type": "display_data"
    }
   ],
   "source": [
    "print(\"Confusion Matrix\\n\")\n",
    "plt.figure(figsize = (7,7))\n",
    "sns.heatmap(data = cm, square = True, annot = True, cbar = False)\n",
    "plt.axis('off')\n",
    "plt.show()"
   ]
  },
  {
   "cell_type": "code",
   "execution_count": 13,
   "metadata": {
    "execution": {
     "iopub.execute_input": "2021-09-01T19:00:29.152205Z",
     "iopub.status.busy": "2021-09-01T19:00:29.151829Z",
     "iopub.status.idle": "2021-09-01T19:00:29.462346Z",
     "shell.execute_reply": "2021-09-01T19:00:29.461239Z",
     "shell.execute_reply.started": "2021-09-01T19:00:29.152167Z"
    }
   },
   "outputs": [],
   "source": [
    "tf.keras.models.save_model(model, filepath='XceptionNet.h5')"
   ]
  },
  {
   "cell_type": "code",
   "execution_count": 14,
   "metadata": {},
   "outputs": [],
   "source": [
    "from sklearn.datasets import make_circles\n",
    "from sklearn.metrics import accuracy_score\n",
    "from sklearn.metrics import precision_score\n",
    "from sklearn.metrics import recall_score\n",
    "from sklearn.metrics import f1_score\n",
    "from sklearn.metrics import cohen_kappa_score\n",
    "from sklearn.metrics import roc_auc_score\n",
    "from sklearn.metrics import confusion_matrix"
   ]
  },
  {
   "cell_type": "code",
   "execution_count": 15,
   "metadata": {},
   "outputs": [
    {
     "name": "stdout",
     "output_type": "stream",
     "text": [
      "Accuracy: 0.364641\n",
      "Precision: 0.980769\n",
      "Recall: 0.309091\n",
      "F1 score: 0.470046\n",
      "Cohens kappa: 0.058869\n",
      "ROC AUC: 0.623295\n",
      "[[ 15   1]\n",
      " [114  51]]\n"
     ]
    }
   ],
   "source": [
    "# accuracy: (tp + tn) / (p + n)\n",
    "accuracy = accuracy_score(pred, y)\n",
    "print('Accuracy: %f' % accuracy)\n",
    "# precision tp / (tp + fp)\n",
    "precision = precision_score(pred, y)\n",
    "print('Precision: %f' % precision)\n",
    "# recall: tp / (tp + fn)\n",
    "recall = recall_score(pred, y)\n",
    "print('Recall: %f' % recall)\n",
    "# f1: 2 tp / (2 tp + fp + fn)\n",
    "f1 = f1_score(pred, y)\n",
    "print('F1 score: %f' % f1)\n",
    " \n",
    "# kappa\n",
    "kappa = cohen_kappa_score(pred, y)\n",
    "print('Cohens kappa: %f' % kappa)\n",
    "# ROC AUC\n",
    "auc = roc_auc_score(pred, y)\n",
    "print('ROC AUC: %f' % auc)\n",
    "# confusion matrix\n",
    "cm = confusion_matrix(pred, y)\n",
    "print(matrix)"
   ]
  },
  {
   "cell_type": "code",
   "execution_count": null,
   "metadata": {},
   "outputs": [],
   "source": [
    "from sklearn.metrics import confusion_matrix\n",
    "total=sum(sum(cm))\n",
    "Accuracy = (cm[0,0]+cm[1,1])/total\n",
    "Specificity = cm[0,0]/(cm[0,0]+cm[0,1])\n",
    "Sensitivity = cm[1,1]/(cm[1,0]+cm[1,1])\n",
    "\n",
    "print(\"Accuracy:\",(cm[0,0]+cm[1,1])/total)\n",
    "print(\"Specificity:\",cm[0,0]/(cm[0,0]+cm[0,1]))\n",
    "print(\"Sensitivity:\",cm[1,1]/(cm[1,0]+cm[1,1]))"
   ]
  }
 ],
 "metadata": {
  "kernelspec": {
   "display_name": "Python 3",
   "language": "python",
   "name": "python3"
  },
  "language_info": {
   "codemirror_mode": {
    "name": "ipython",
    "version": 3
   },
   "file_extension": ".py",
   "mimetype": "text/x-python",
   "name": "python",
   "nbconvert_exporter": "python",
   "pygments_lexer": "ipython3",
   "version": "3.6.9"
  }
 },
 "nbformat": 4,
 "nbformat_minor": 4
}
