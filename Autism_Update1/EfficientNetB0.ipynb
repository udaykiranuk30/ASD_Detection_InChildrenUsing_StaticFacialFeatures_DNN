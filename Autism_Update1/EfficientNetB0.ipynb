{
 "cells": [
  {
   "cell_type": "code",
   "execution_count": 1,
   "metadata": {
    "execution": {
     "iopub.execute_input": "2021-09-01T18:50:18.372818Z",
     "iopub.status.busy": "2021-09-01T18:50:18.372466Z",
     "iopub.status.idle": "2021-09-01T18:50:18.384003Z",
     "shell.execute_reply": "2021-09-01T18:50:18.382979Z",
     "shell.execute_reply.started": "2021-09-01T18:50:18.372781Z"
    }
   },
   "outputs": [
    {
     "name": "stderr",
     "output_type": "stream",
     "text": [
      "Using TensorFlow backend.\n",
      "C:\\Users\\nagas\\anaconda3\\envs\\ml\\lib\\site-packages\\tensorflow\\python\\framework\\dtypes.py:516: FutureWarning: Passing (type, 1) or '1type' as a synonym of type is deprecated; in a future version of numpy, it will be understood as (type, (1,)) / '(1,)type'.\n",
      "  _np_qint8 = np.dtype([(\"qint8\", np.int8, 1)])\n",
      "C:\\Users\\nagas\\anaconda3\\envs\\ml\\lib\\site-packages\\tensorflow\\python\\framework\\dtypes.py:517: FutureWarning: Passing (type, 1) or '1type' as a synonym of type is deprecated; in a future version of numpy, it will be understood as (type, (1,)) / '(1,)type'.\n",
      "  _np_quint8 = np.dtype([(\"quint8\", np.uint8, 1)])\n",
      "C:\\Users\\nagas\\anaconda3\\envs\\ml\\lib\\site-packages\\tensorflow\\python\\framework\\dtypes.py:518: FutureWarning: Passing (type, 1) or '1type' as a synonym of type is deprecated; in a future version of numpy, it will be understood as (type, (1,)) / '(1,)type'.\n",
      "  _np_qint16 = np.dtype([(\"qint16\", np.int16, 1)])\n",
      "C:\\Users\\nagas\\anaconda3\\envs\\ml\\lib\\site-packages\\tensorflow\\python\\framework\\dtypes.py:519: FutureWarning: Passing (type, 1) or '1type' as a synonym of type is deprecated; in a future version of numpy, it will be understood as (type, (1,)) / '(1,)type'.\n",
      "  _np_quint16 = np.dtype([(\"quint16\", np.uint16, 1)])\n",
      "C:\\Users\\nagas\\anaconda3\\envs\\ml\\lib\\site-packages\\tensorflow\\python\\framework\\dtypes.py:520: FutureWarning: Passing (type, 1) or '1type' as a synonym of type is deprecated; in a future version of numpy, it will be understood as (type, (1,)) / '(1,)type'.\n",
      "  _np_qint32 = np.dtype([(\"qint32\", np.int32, 1)])\n",
      "C:\\Users\\nagas\\anaconda3\\envs\\ml\\lib\\site-packages\\tensorflow\\python\\framework\\dtypes.py:525: FutureWarning: Passing (type, 1) or '1type' as a synonym of type is deprecated; in a future version of numpy, it will be understood as (type, (1,)) / '(1,)type'.\n",
      "  np_resource = np.dtype([(\"resource\", np.ubyte, 1)])\n",
      "C:\\Users\\nagas\\anaconda3\\envs\\ml\\lib\\site-packages\\tensorboard\\compat\\tensorflow_stub\\dtypes.py:541: FutureWarning: Passing (type, 1) or '1type' as a synonym of type is deprecated; in a future version of numpy, it will be understood as (type, (1,)) / '(1,)type'.\n",
      "  _np_qint8 = np.dtype([(\"qint8\", np.int8, 1)])\n",
      "C:\\Users\\nagas\\anaconda3\\envs\\ml\\lib\\site-packages\\tensorboard\\compat\\tensorflow_stub\\dtypes.py:542: FutureWarning: Passing (type, 1) or '1type' as a synonym of type is deprecated; in a future version of numpy, it will be understood as (type, (1,)) / '(1,)type'.\n",
      "  _np_quint8 = np.dtype([(\"quint8\", np.uint8, 1)])\n",
      "C:\\Users\\nagas\\anaconda3\\envs\\ml\\lib\\site-packages\\tensorboard\\compat\\tensorflow_stub\\dtypes.py:543: FutureWarning: Passing (type, 1) or '1type' as a synonym of type is deprecated; in a future version of numpy, it will be understood as (type, (1,)) / '(1,)type'.\n",
      "  _np_qint16 = np.dtype([(\"qint16\", np.int16, 1)])\n",
      "C:\\Users\\nagas\\anaconda3\\envs\\ml\\lib\\site-packages\\tensorboard\\compat\\tensorflow_stub\\dtypes.py:544: FutureWarning: Passing (type, 1) or '1type' as a synonym of type is deprecated; in a future version of numpy, it will be understood as (type, (1,)) / '(1,)type'.\n",
      "  _np_quint16 = np.dtype([(\"quint16\", np.uint16, 1)])\n",
      "C:\\Users\\nagas\\anaconda3\\envs\\ml\\lib\\site-packages\\tensorboard\\compat\\tensorflow_stub\\dtypes.py:545: FutureWarning: Passing (type, 1) or '1type' as a synonym of type is deprecated; in a future version of numpy, it will be understood as (type, (1,)) / '(1,)type'.\n",
      "  _np_qint32 = np.dtype([(\"qint32\", np.int32, 1)])\n",
      "C:\\Users\\nagas\\anaconda3\\envs\\ml\\lib\\site-packages\\tensorboard\\compat\\tensorflow_stub\\dtypes.py:550: FutureWarning: Passing (type, 1) or '1type' as a synonym of type is deprecated; in a future version of numpy, it will be understood as (type, (1,)) / '(1,)type'.\n",
      "  np_resource = np.dtype([(\"resource\", np.ubyte, 1)])\n"
     ]
    },
    {
     "name": "stdout",
     "output_type": "stream",
     "text": [
      "1.14.0\n"
     ]
    }
   ],
   "source": [
    "import os\n",
    "import cv2\n",
    "import numpy as np\n",
    "import matplotlib.pyplot as plt\n",
    "from tqdm import tqdm\n",
    "from sklearn.metrics import confusion_matrix\n",
    "import seaborn as sns\n",
    "\n",
    "from keras.utils import np_utils\n",
    "from keras.preprocessing.image import ImageDataGenerator\n",
    "import efficientnet.tfkeras as efn\n",
    "from tensorflow.keras.models import Sequential\n",
    "from tensorflow.keras.layers import GlobalAveragePooling2D, Dropout, Dense, Conv2D\n",
    "\n",
    "from sklearn.model_selection import train_test_split\n",
    "\n",
    "import tensorflow as tf\n",
    "print(tf.__version__)"
   ]
  },
  {
   "cell_type": "code",
   "execution_count": 2,
   "metadata": {
    "_cell_guid": "79c7e3d0-c299-4dcb-8224-4455121ee9b0",
    "_uuid": "d629ff2d2480ee46fbb7e2d37f6b5fab8052498a",
    "execution": {
     "iopub.execute_input": "2021-09-01T18:50:18.387037Z",
     "iopub.status.busy": "2021-09-01T18:50:18.386437Z",
     "iopub.status.idle": "2021-09-01T18:50:18.407401Z",
     "shell.execute_reply": "2021-09-01T18:50:18.406549Z",
     "shell.execute_reply.started": "2021-09-01T18:50:18.386997Z"
    }
   },
   "outputs": [],
   "source": [
    "fpath = 'C:\\\\Users\\\\nagas\\\\Downloads\\\\Autism\\\\Autism Dataset\\\\Autism Dataset\\\\train\\\\'\n",
    "categories = os.listdir(fpath)"
   ]
  },
  {
   "cell_type": "code",
   "execution_count": 3,
   "metadata": {},
   "outputs": [
    {
     "data": {
      "text/plain": [
       "['Autistic', 'Non_Autistic']"
      ]
     },
     "execution_count": 3,
     "metadata": {},
     "output_type": "execute_result"
    }
   ],
   "source": [
    "categories "
   ]
  },
  {
   "cell_type": "code",
   "execution_count": 4,
   "metadata": {
    "execution": {
     "iopub.execute_input": "2021-09-01T18:50:18.410102Z",
     "iopub.status.busy": "2021-09-01T18:50:18.409501Z",
     "iopub.status.idle": "2021-09-01T18:50:35.559308Z",
     "shell.execute_reply": "2021-09-01T18:50:35.558539Z",
     "shell.execute_reply.started": "2021-09-01T18:50:18.410058Z"
    }
   },
   "outputs": [
    {
     "name": "stdout",
     "output_type": "stream",
     "text": [
      "folder 0\n"
     ]
    },
    {
     "name": "stderr",
     "output_type": "stream",
     "text": [
      "100%|███████████████████████████████████████████████████████████████████████████████| 418/418 [00:00<00:00, 451.95it/s]\n"
     ]
    },
    {
     "name": "stdout",
     "output_type": "stream",
     "text": [
      "folder 1\n"
     ]
    },
    {
     "name": "stderr",
     "output_type": "stream",
     "text": [
      "100%|███████████████████████████████████████████████████████████████████████████████| 185/185 [00:00<00:00, 443.61it/s]\n"
     ]
    },
    {
     "name": "stdout",
     "output_type": "stream",
     "text": [
      "(603, 224, 224, 3)\n",
      "(603,)\n"
     ]
    }
   ],
   "source": [
    "imgsize = 224\n",
    "X = []\n",
    "Y = []\n",
    "n_classes = 2\n",
    "\n",
    "for index, folder in enumerate(categories[:n_classes]):\n",
    "    path = os.path.join(fpath,folder)\n",
    "    print(\"folder\",index)\n",
    "    for img in tqdm(os.listdir(path)):\n",
    "        Ipath = os.path.join(path,img)\n",
    "        img = cv2.imread(Ipath,cv2.IMREAD_COLOR)\n",
    "        img = cv2.resize(img,(imgsize,imgsize))\n",
    "        X.append(np.array(img))\n",
    "        Y.append(index)\n",
    "\n",
    "X = np.array(X).astype('float16')\n",
    "Y = np.array(Y)\n",
    "print(X.shape)\n",
    "print(Y.shape)"
   ]
  },
  {
   "cell_type": "code",
   "execution_count": 5,
   "metadata": {
    "execution": {
     "iopub.execute_input": "2021-09-01T18:50:35.562468Z",
     "iopub.status.busy": "2021-09-01T18:50:35.561827Z",
     "iopub.status.idle": "2021-09-01T18:50:35.864028Z",
     "shell.execute_reply": "2021-09-01T18:50:35.863232Z",
     "shell.execute_reply.started": "2021-09-01T18:50:35.562426Z"
    }
   },
   "outputs": [],
   "source": [
    "labels = np_utils.to_categorical(Y, n_classes)\n",
    "\n",
    "trainImg, testImg, trainLabel, testLabel = train_test_split(X, labels,  test_size=0.3,random_state=69)"
   ]
  },
  {
   "cell_type": "code",
   "execution_count": 6,
   "metadata": {
    "execution": {
     "iopub.execute_input": "2021-09-01T18:50:35.867331Z",
     "iopub.status.busy": "2021-09-01T18:50:35.866951Z",
     "iopub.status.idle": "2021-09-01T18:50:35.874462Z",
     "shell.execute_reply": "2021-09-01T18:50:35.873309Z",
     "shell.execute_reply.started": "2021-09-01T18:50:35.867288Z"
    }
   },
   "outputs": [],
   "source": [
    "#to save memory\n",
    "labels = None \n",
    "X = None"
   ]
  },
  {
   "cell_type": "code",
   "execution_count": 7,
   "metadata": {
    "execution": {
     "iopub.execute_input": "2021-09-01T18:50:35.876625Z",
     "iopub.status.busy": "2021-09-01T18:50:35.876232Z",
     "iopub.status.idle": "2021-09-01T18:50:40.540425Z",
     "shell.execute_reply": "2021-09-01T18:50:40.539700Z",
     "shell.execute_reply.started": "2021-09-01T18:50:35.876586Z"
    }
   },
   "outputs": [
    {
     "name": "stdout",
     "output_type": "stream",
     "text": [
      "WARNING:tensorflow:From C:\\Users\\nagas\\anaconda3\\envs\\ml\\lib\\site-packages\\tensorflow\\python\\util\\deprecation.py:507: calling VarianceScaling.__init__ (from tensorflow.python.ops.init_ops) with distribution=normal is deprecated and will be removed in a future version.\n",
      "Instructions for updating:\n",
      "`normal` is a deprecated alias for `truncated_normal`\n",
      "WARNING:tensorflow:From C:\\Users\\nagas\\anaconda3\\envs\\ml\\lib\\site-packages\\tensorflow\\python\\ops\\init_ops.py:1251: calling VarianceScaling.__init__ (from tensorflow.python.ops.init_ops) with dtype is deprecated and will be removed in a future version.\n",
      "Instructions for updating:\n",
      "Call initializer instance with the dtype argument instead of passing it to the constructor\n",
      "WARNING:tensorflow:Entity <bound method Dropout.call of <efficientnet.model.get_dropout.<locals>.FixedDropout object at 0x0000024CA470C080>> could not be transformed and will be executed as-is. Please report this to the AutgoGraph team. When filing the bug, set the verbosity to 10 (on Linux, `export AUTOGRAPH_VERBOSITY=10`) and attach the full output. Cause: converting <bound method Dropout.call of <efficientnet.model.get_dropout.<locals>.FixedDropout object at 0x0000024CA470C080>>: AttributeError: module 'gast' has no attribute 'Str'\n",
      "WARNING: Entity <bound method Dropout.call of <efficientnet.model.get_dropout.<locals>.FixedDropout object at 0x0000024CA470C080>> could not be transformed and will be executed as-is. Please report this to the AutgoGraph team. When filing the bug, set the verbosity to 10 (on Linux, `export AUTOGRAPH_VERBOSITY=10`) and attach the full output. Cause: converting <bound method Dropout.call of <efficientnet.model.get_dropout.<locals>.FixedDropout object at 0x0000024CA470C080>>: AttributeError: module 'gast' has no attribute 'Str'\n",
      "WARNING:tensorflow:Entity <bound method Dropout.call of <efficientnet.model.get_dropout.<locals>.FixedDropout object at 0x0000024CA4DB74A8>> could not be transformed and will be executed as-is. Please report this to the AutgoGraph team. When filing the bug, set the verbosity to 10 (on Linux, `export AUTOGRAPH_VERBOSITY=10`) and attach the full output. Cause: converting <bound method Dropout.call of <efficientnet.model.get_dropout.<locals>.FixedDropout object at 0x0000024CA4DB74A8>>: AttributeError: module 'gast' has no attribute 'Str'\n",
      "WARNING: Entity <bound method Dropout.call of <efficientnet.model.get_dropout.<locals>.FixedDropout object at 0x0000024CA4DB74A8>> could not be transformed and will be executed as-is. Please report this to the AutgoGraph team. When filing the bug, set the verbosity to 10 (on Linux, `export AUTOGRAPH_VERBOSITY=10`) and attach the full output. Cause: converting <bound method Dropout.call of <efficientnet.model.get_dropout.<locals>.FixedDropout object at 0x0000024CA4DB74A8>>: AttributeError: module 'gast' has no attribute 'Str'\n",
      "WARNING:tensorflow:Entity <bound method Dropout.call of <efficientnet.model.get_dropout.<locals>.FixedDropout object at 0x0000024CA5448518>> could not be transformed and will be executed as-is. Please report this to the AutgoGraph team. When filing the bug, set the verbosity to 10 (on Linux, `export AUTOGRAPH_VERBOSITY=10`) and attach the full output. Cause: converting <bound method Dropout.call of <efficientnet.model.get_dropout.<locals>.FixedDropout object at 0x0000024CA5448518>>: AttributeError: module 'gast' has no attribute 'Str'\n",
      "WARNING: Entity <bound method Dropout.call of <efficientnet.model.get_dropout.<locals>.FixedDropout object at 0x0000024CA5448518>> could not be transformed and will be executed as-is. Please report this to the AutgoGraph team. When filing the bug, set the verbosity to 10 (on Linux, `export AUTOGRAPH_VERBOSITY=10`) and attach the full output. Cause: converting <bound method Dropout.call of <efficientnet.model.get_dropout.<locals>.FixedDropout object at 0x0000024CA5448518>>: AttributeError: module 'gast' has no attribute 'Str'\n",
      "WARNING:tensorflow:Entity <bound method Dropout.call of <efficientnet.model.get_dropout.<locals>.FixedDropout object at 0x0000024CA57BBA58>> could not be transformed and will be executed as-is. Please report this to the AutgoGraph team. When filing the bug, set the verbosity to 10 (on Linux, `export AUTOGRAPH_VERBOSITY=10`) and attach the full output. Cause: converting <bound method Dropout.call of <efficientnet.model.get_dropout.<locals>.FixedDropout object at 0x0000024CA57BBA58>>: AttributeError: module 'gast' has no attribute 'Str'\n",
      "WARNING: Entity <bound method Dropout.call of <efficientnet.model.get_dropout.<locals>.FixedDropout object at 0x0000024CA57BBA58>> could not be transformed and will be executed as-is. Please report this to the AutgoGraph team. When filing the bug, set the verbosity to 10 (on Linux, `export AUTOGRAPH_VERBOSITY=10`) and attach the full output. Cause: converting <bound method Dropout.call of <efficientnet.model.get_dropout.<locals>.FixedDropout object at 0x0000024CA57BBA58>>: AttributeError: module 'gast' has no attribute 'Str'\n",
      "WARNING:tensorflow:Entity <bound method Dropout.call of <efficientnet.model.get_dropout.<locals>.FixedDropout object at 0x0000024CA5E4C940>> could not be transformed and will be executed as-is. Please report this to the AutgoGraph team. When filing the bug, set the verbosity to 10 (on Linux, `export AUTOGRAPH_VERBOSITY=10`) and attach the full output. Cause: converting <bound method Dropout.call of <efficientnet.model.get_dropout.<locals>.FixedDropout object at 0x0000024CA5E4C940>>: AttributeError: module 'gast' has no attribute 'Str'\n",
      "WARNING: Entity <bound method Dropout.call of <efficientnet.model.get_dropout.<locals>.FixedDropout object at 0x0000024CA5E4C940>> could not be transformed and will be executed as-is. Please report this to the AutgoGraph team. When filing the bug, set the verbosity to 10 (on Linux, `export AUTOGRAPH_VERBOSITY=10`) and attach the full output. Cause: converting <bound method Dropout.call of <efficientnet.model.get_dropout.<locals>.FixedDropout object at 0x0000024CA5E4C940>>: AttributeError: module 'gast' has no attribute 'Str'\n",
      "WARNING:tensorflow:Entity <bound method Dropout.call of <efficientnet.model.get_dropout.<locals>.FixedDropout object at 0x0000024CA61B9C88>> could not be transformed and will be executed as-is. Please report this to the AutgoGraph team. When filing the bug, set the verbosity to 10 (on Linux, `export AUTOGRAPH_VERBOSITY=10`) and attach the full output. Cause: converting <bound method Dropout.call of <efficientnet.model.get_dropout.<locals>.FixedDropout object at 0x0000024CA61B9C88>>: AttributeError: module 'gast' has no attribute 'Str'\n",
      "WARNING: Entity <bound method Dropout.call of <efficientnet.model.get_dropout.<locals>.FixedDropout object at 0x0000024CA61B9C88>> could not be transformed and will be executed as-is. Please report this to the AutgoGraph team. When filing the bug, set the verbosity to 10 (on Linux, `export AUTOGRAPH_VERBOSITY=10`) and attach the full output. Cause: converting <bound method Dropout.call of <efficientnet.model.get_dropout.<locals>.FixedDropout object at 0x0000024CA61B9C88>>: AttributeError: module 'gast' has no attribute 'Str'\n",
      "WARNING:tensorflow:Entity <bound method Dropout.call of <efficientnet.model.get_dropout.<locals>.FixedDropout object at 0x0000024CA68816D8>> could not be transformed and will be executed as-is. Please report this to the AutgoGraph team. When filing the bug, set the verbosity to 10 (on Linux, `export AUTOGRAPH_VERBOSITY=10`) and attach the full output. Cause: converting <bound method Dropout.call of <efficientnet.model.get_dropout.<locals>.FixedDropout object at 0x0000024CA68816D8>>: AttributeError: module 'gast' has no attribute 'Str'\n",
      "WARNING: Entity <bound method Dropout.call of <efficientnet.model.get_dropout.<locals>.FixedDropout object at 0x0000024CA68816D8>> could not be transformed and will be executed as-is. Please report this to the AutgoGraph team. When filing the bug, set the verbosity to 10 (on Linux, `export AUTOGRAPH_VERBOSITY=10`) and attach the full output. Cause: converting <bound method Dropout.call of <efficientnet.model.get_dropout.<locals>.FixedDropout object at 0x0000024CA68816D8>>: AttributeError: module 'gast' has no attribute 'Str'\n",
      "WARNING:tensorflow:Entity <bound method Dropout.call of <efficientnet.model.get_dropout.<locals>.FixedDropout object at 0x0000024CA6C29048>> could not be transformed and will be executed as-is. Please report this to the AutgoGraph team. When filing the bug, set the verbosity to 10 (on Linux, `export AUTOGRAPH_VERBOSITY=10`) and attach the full output. Cause: converting <bound method Dropout.call of <efficientnet.model.get_dropout.<locals>.FixedDropout object at 0x0000024CA6C29048>>: AttributeError: module 'gast' has no attribute 'Str'\n"
     ]
    },
    {
     "name": "stdout",
     "output_type": "stream",
     "text": [
      "WARNING: Entity <bound method Dropout.call of <efficientnet.model.get_dropout.<locals>.FixedDropout object at 0x0000024CA6C29048>> could not be transformed and will be executed as-is. Please report this to the AutgoGraph team. When filing the bug, set the verbosity to 10 (on Linux, `export AUTOGRAPH_VERBOSITY=10`) and attach the full output. Cause: converting <bound method Dropout.call of <efficientnet.model.get_dropout.<locals>.FixedDropout object at 0x0000024CA6C29048>>: AttributeError: module 'gast' has no attribute 'Str'\n",
      "WARNING:tensorflow:Entity <bound method Dropout.call of <efficientnet.model.get_dropout.<locals>.FixedDropout object at 0x0000024CA6FC8C50>> could not be transformed and will be executed as-is. Please report this to the AutgoGraph team. When filing the bug, set the verbosity to 10 (on Linux, `export AUTOGRAPH_VERBOSITY=10`) and attach the full output. Cause: converting <bound method Dropout.call of <efficientnet.model.get_dropout.<locals>.FixedDropout object at 0x0000024CA6FC8C50>>: AttributeError: module 'gast' has no attribute 'Str'\n",
      "WARNING: Entity <bound method Dropout.call of <efficientnet.model.get_dropout.<locals>.FixedDropout object at 0x0000024CA6FC8C50>> could not be transformed and will be executed as-is. Please report this to the AutgoGraph team. When filing the bug, set the verbosity to 10 (on Linux, `export AUTOGRAPH_VERBOSITY=10`) and attach the full output. Cause: converting <bound method Dropout.call of <efficientnet.model.get_dropout.<locals>.FixedDropout object at 0x0000024CA6FC8C50>>: AttributeError: module 'gast' has no attribute 'Str'\n",
      "WARNING:tensorflow:Entity <bound method Dropout.call of <efficientnet.model.get_dropout.<locals>.FixedDropout object at 0x0000024CA470C080>> could not be transformed and will be executed as-is. Please report this to the AutgoGraph team. When filing the bug, set the verbosity to 10 (on Linux, `export AUTOGRAPH_VERBOSITY=10`) and attach the full output. Cause: converting <bound method Dropout.call of <efficientnet.model.get_dropout.<locals>.FixedDropout object at 0x0000024CA470C080>>: AttributeError: module 'gast' has no attribute 'Str'\n",
      "WARNING: Entity <bound method Dropout.call of <efficientnet.model.get_dropout.<locals>.FixedDropout object at 0x0000024CA470C080>> could not be transformed and will be executed as-is. Please report this to the AutgoGraph team. When filing the bug, set the verbosity to 10 (on Linux, `export AUTOGRAPH_VERBOSITY=10`) and attach the full output. Cause: converting <bound method Dropout.call of <efficientnet.model.get_dropout.<locals>.FixedDropout object at 0x0000024CA470C080>>: AttributeError: module 'gast' has no attribute 'Str'\n",
      "WARNING:tensorflow:Entity <bound method Dropout.call of <efficientnet.model.get_dropout.<locals>.FixedDropout object at 0x0000024CA4DB74A8>> could not be transformed and will be executed as-is. Please report this to the AutgoGraph team. When filing the bug, set the verbosity to 10 (on Linux, `export AUTOGRAPH_VERBOSITY=10`) and attach the full output. Cause: converting <bound method Dropout.call of <efficientnet.model.get_dropout.<locals>.FixedDropout object at 0x0000024CA4DB74A8>>: AttributeError: module 'gast' has no attribute 'Str'\n",
      "WARNING: Entity <bound method Dropout.call of <efficientnet.model.get_dropout.<locals>.FixedDropout object at 0x0000024CA4DB74A8>> could not be transformed and will be executed as-is. Please report this to the AutgoGraph team. When filing the bug, set the verbosity to 10 (on Linux, `export AUTOGRAPH_VERBOSITY=10`) and attach the full output. Cause: converting <bound method Dropout.call of <efficientnet.model.get_dropout.<locals>.FixedDropout object at 0x0000024CA4DB74A8>>: AttributeError: module 'gast' has no attribute 'Str'\n",
      "WARNING:tensorflow:Entity <bound method Dropout.call of <efficientnet.model.get_dropout.<locals>.FixedDropout object at 0x0000024CA5448518>> could not be transformed and will be executed as-is. Please report this to the AutgoGraph team. When filing the bug, set the verbosity to 10 (on Linux, `export AUTOGRAPH_VERBOSITY=10`) and attach the full output. Cause: converting <bound method Dropout.call of <efficientnet.model.get_dropout.<locals>.FixedDropout object at 0x0000024CA5448518>>: AttributeError: module 'gast' has no attribute 'Str'\n",
      "WARNING: Entity <bound method Dropout.call of <efficientnet.model.get_dropout.<locals>.FixedDropout object at 0x0000024CA5448518>> could not be transformed and will be executed as-is. Please report this to the AutgoGraph team. When filing the bug, set the verbosity to 10 (on Linux, `export AUTOGRAPH_VERBOSITY=10`) and attach the full output. Cause: converting <bound method Dropout.call of <efficientnet.model.get_dropout.<locals>.FixedDropout object at 0x0000024CA5448518>>: AttributeError: module 'gast' has no attribute 'Str'\n",
      "WARNING:tensorflow:Entity <bound method Dropout.call of <efficientnet.model.get_dropout.<locals>.FixedDropout object at 0x0000024CA57BBA58>> could not be transformed and will be executed as-is. Please report this to the AutgoGraph team. When filing the bug, set the verbosity to 10 (on Linux, `export AUTOGRAPH_VERBOSITY=10`) and attach the full output. Cause: converting <bound method Dropout.call of <efficientnet.model.get_dropout.<locals>.FixedDropout object at 0x0000024CA57BBA58>>: AttributeError: module 'gast' has no attribute 'Str'\n",
      "WARNING: Entity <bound method Dropout.call of <efficientnet.model.get_dropout.<locals>.FixedDropout object at 0x0000024CA57BBA58>> could not be transformed and will be executed as-is. Please report this to the AutgoGraph team. When filing the bug, set the verbosity to 10 (on Linux, `export AUTOGRAPH_VERBOSITY=10`) and attach the full output. Cause: converting <bound method Dropout.call of <efficientnet.model.get_dropout.<locals>.FixedDropout object at 0x0000024CA57BBA58>>: AttributeError: module 'gast' has no attribute 'Str'\n",
      "WARNING:tensorflow:Entity <bound method Dropout.call of <efficientnet.model.get_dropout.<locals>.FixedDropout object at 0x0000024CA5E4C940>> could not be transformed and will be executed as-is. Please report this to the AutgoGraph team. When filing the bug, set the verbosity to 10 (on Linux, `export AUTOGRAPH_VERBOSITY=10`) and attach the full output. Cause: converting <bound method Dropout.call of <efficientnet.model.get_dropout.<locals>.FixedDropout object at 0x0000024CA5E4C940>>: AttributeError: module 'gast' has no attribute 'Str'\n",
      "WARNING: Entity <bound method Dropout.call of <efficientnet.model.get_dropout.<locals>.FixedDropout object at 0x0000024CA5E4C940>> could not be transformed and will be executed as-is. Please report this to the AutgoGraph team. When filing the bug, set the verbosity to 10 (on Linux, `export AUTOGRAPH_VERBOSITY=10`) and attach the full output. Cause: converting <bound method Dropout.call of <efficientnet.model.get_dropout.<locals>.FixedDropout object at 0x0000024CA5E4C940>>: AttributeError: module 'gast' has no attribute 'Str'\n",
      "WARNING:tensorflow:Entity <bound method Dropout.call of <efficientnet.model.get_dropout.<locals>.FixedDropout object at 0x0000024CA61B9C88>> could not be transformed and will be executed as-is. Please report this to the AutgoGraph team. When filing the bug, set the verbosity to 10 (on Linux, `export AUTOGRAPH_VERBOSITY=10`) and attach the full output. Cause: converting <bound method Dropout.call of <efficientnet.model.get_dropout.<locals>.FixedDropout object at 0x0000024CA61B9C88>>: AttributeError: module 'gast' has no attribute 'Str'\n",
      "WARNING: Entity <bound method Dropout.call of <efficientnet.model.get_dropout.<locals>.FixedDropout object at 0x0000024CA61B9C88>> could not be transformed and will be executed as-is. Please report this to the AutgoGraph team. When filing the bug, set the verbosity to 10 (on Linux, `export AUTOGRAPH_VERBOSITY=10`) and attach the full output. Cause: converting <bound method Dropout.call of <efficientnet.model.get_dropout.<locals>.FixedDropout object at 0x0000024CA61B9C88>>: AttributeError: module 'gast' has no attribute 'Str'\n",
      "WARNING:tensorflow:Entity <bound method Dropout.call of <efficientnet.model.get_dropout.<locals>.FixedDropout object at 0x0000024CA68816D8>> could not be transformed and will be executed as-is. Please report this to the AutgoGraph team. When filing the bug, set the verbosity to 10 (on Linux, `export AUTOGRAPH_VERBOSITY=10`) and attach the full output. Cause: converting <bound method Dropout.call of <efficientnet.model.get_dropout.<locals>.FixedDropout object at 0x0000024CA68816D8>>: AttributeError: module 'gast' has no attribute 'Str'\n"
     ]
    },
    {
     "name": "stdout",
     "output_type": "stream",
     "text": [
      "WARNING: Entity <bound method Dropout.call of <efficientnet.model.get_dropout.<locals>.FixedDropout object at 0x0000024CA68816D8>> could not be transformed and will be executed as-is. Please report this to the AutgoGraph team. When filing the bug, set the verbosity to 10 (on Linux, `export AUTOGRAPH_VERBOSITY=10`) and attach the full output. Cause: converting <bound method Dropout.call of <efficientnet.model.get_dropout.<locals>.FixedDropout object at 0x0000024CA68816D8>>: AttributeError: module 'gast' has no attribute 'Str'\n",
      "WARNING:tensorflow:Entity <bound method Dropout.call of <efficientnet.model.get_dropout.<locals>.FixedDropout object at 0x0000024CA6C29048>> could not be transformed and will be executed as-is. Please report this to the AutgoGraph team. When filing the bug, set the verbosity to 10 (on Linux, `export AUTOGRAPH_VERBOSITY=10`) and attach the full output. Cause: converting <bound method Dropout.call of <efficientnet.model.get_dropout.<locals>.FixedDropout object at 0x0000024CA6C29048>>: AttributeError: module 'gast' has no attribute 'Str'\n",
      "WARNING: Entity <bound method Dropout.call of <efficientnet.model.get_dropout.<locals>.FixedDropout object at 0x0000024CA6C29048>> could not be transformed and will be executed as-is. Please report this to the AutgoGraph team. When filing the bug, set the verbosity to 10 (on Linux, `export AUTOGRAPH_VERBOSITY=10`) and attach the full output. Cause: converting <bound method Dropout.call of <efficientnet.model.get_dropout.<locals>.FixedDropout object at 0x0000024CA6C29048>>: AttributeError: module 'gast' has no attribute 'Str'\n",
      "WARNING:tensorflow:Entity <bound method Dropout.call of <efficientnet.model.get_dropout.<locals>.FixedDropout object at 0x0000024CA6FC8C50>> could not be transformed and will be executed as-is. Please report this to the AutgoGraph team. When filing the bug, set the verbosity to 10 (on Linux, `export AUTOGRAPH_VERBOSITY=10`) and attach the full output. Cause: converting <bound method Dropout.call of <efficientnet.model.get_dropout.<locals>.FixedDropout object at 0x0000024CA6FC8C50>>: AttributeError: module 'gast' has no attribute 'Str'\n",
      "WARNING: Entity <bound method Dropout.call of <efficientnet.model.get_dropout.<locals>.FixedDropout object at 0x0000024CA6FC8C50>> could not be transformed and will be executed as-is. Please report this to the AutgoGraph team. When filing the bug, set the verbosity to 10 (on Linux, `export AUTOGRAPH_VERBOSITY=10`) and attach the full output. Cause: converting <bound method Dropout.call of <efficientnet.model.get_dropout.<locals>.FixedDropout object at 0x0000024CA6FC8C50>>: AttributeError: module 'gast' has no attribute 'Str'\n",
      "Model: \"sequential\"\n",
      "_________________________________________________________________\n",
      "Layer (type)                 Output Shape              Param #   \n",
      "=================================================================\n",
      "efficientnet-b0 (Model)      (None, 1000)              5330564   \n",
      "_________________________________________________________________\n",
      "dense (Dense)                (None, 2)                 2002      \n",
      "=================================================================\n",
      "Total params: 5,332,566\n",
      "Trainable params: 5,290,550\n",
      "Non-trainable params: 42,016\n",
      "_________________________________________________________________\n"
     ]
    }
   ],
   "source": [
    "from keras.applications.imagenet_utils import preprocess_input\n",
    "augs_gen = ImageDataGenerator(preprocessing_function=preprocess_input,featurewise_center=False,  \n",
    "        samplewise_center=False, \n",
    "        featurewise_std_normalization=False,  \n",
    "        samplewise_std_normalization=False,  \n",
    "        zca_whitening=False,  \n",
    "        rotation_range=10,  \n",
    "        zoom_range = 0.1, \n",
    "        width_shift_range=0.2,  \n",
    "        height_shift_range=0.2, \n",
    "        horizontal_flip=True,  \n",
    "        vertical_flip=False)\n",
    "\n",
    "augs_gen.fit(trainImg)\n",
    "\n",
    "model = efn.EfficientNetB0()\n",
    "new_model = Sequential()\n",
    "new_model.add(model)\n",
    "\n",
    "model=new_model\n",
    "\n",
    "model.add(Dense(n_classes,activation='softmax'))\n",
    "model.summary()\n",
    "\n",
    "model.compile(\n",
    "    loss='categorical_crossentropy',\n",
    "    optimizer='adam',\n",
    "    metrics=['accuracy']\n",
    ")\n"
   ]
  },
  {
   "cell_type": "code",
   "execution_count": 8,
   "metadata": {
    "execution": {
     "iopub.execute_input": "2021-09-01T18:50:40.551092Z",
     "iopub.status.busy": "2021-09-01T18:50:40.550337Z",
     "iopub.status.idle": "2021-09-01T19:00:24.637765Z",
     "shell.execute_reply": "2021-09-01T19:00:24.636915Z",
     "shell.execute_reply.started": "2021-09-01T18:50:40.551051Z"
    }
   },
   "outputs": [
    {
     "name": "stdout",
     "output_type": "stream",
     "text": [
      "Epoch 1/40\n",
      "14/14 [==============================] - 107s 8s/step - loss: 0.6816 - acc: 0.6848 - val_loss: 0.6803 - val_acc: 0.7127\n",
      "Epoch 2/40\n",
      "14/14 [==============================] - 97s 7s/step - loss: 0.6476 - acc: 0.6848 - val_loss: 0.6427 - val_acc: 0.7127\n",
      "Epoch 3/40\n",
      "14/14 [==============================] - 97s 7s/step - loss: 0.6327 - acc: 0.7156 - val_loss: 0.6385 - val_acc: 0.7127\n",
      "Epoch 4/40\n",
      "14/14 [==============================] - 97s 7s/step - loss: 0.6122 - acc: 0.8199 - val_loss: 0.6401 - val_acc: 0.6409\n",
      "Epoch 5/40\n",
      "14/14 [==============================] - 96s 7s/step - loss: 0.6029 - acc: 0.8033 - val_loss: 0.6349 - val_acc: 0.6630\n",
      "Epoch 6/40\n",
      "14/14 [==============================] - 97s 7s/step - loss: 0.5972 - acc: 0.7844 - val_loss: 0.6191 - val_acc: 0.6685\n",
      "Epoch 7/40\n",
      "14/14 [==============================] - 95s 7s/step - loss: 0.6023 - acc: 0.7393 - val_loss: 0.6268 - val_acc: 0.6188\n",
      "Epoch 8/40\n",
      "14/14 [==============================] - 93s 7s/step - loss: 0.5838 - acc: 0.7630 - val_loss: 0.6533 - val_acc: 0.6077\n",
      "Epoch 9/40\n",
      "14/14 [==============================] - 96s 7s/step - loss: 0.6046 - acc: 0.7536 - val_loss: 0.6304 - val_acc: 0.7072\n",
      "Epoch 10/40\n",
      "14/14 [==============================] - 96s 7s/step - loss: 0.6145 - acc: 0.7085 - val_loss: 0.6324 - val_acc: 0.6906\n",
      "Epoch 11/40\n",
      "14/14 [==============================] - 96s 7s/step - loss: 0.5896 - acc: 0.7204 - val_loss: 0.6793 - val_acc: 0.5249\n",
      "Epoch 12/40\n",
      "14/14 [==============================] - 96s 7s/step - loss: 0.5678 - acc: 0.7773 - val_loss: 0.6656 - val_acc: 0.4807\n",
      "Epoch 13/40\n",
      "14/14 [==============================] - 95s 7s/step - loss: 0.5693 - acc: 0.7654 - val_loss: 0.5814 - val_acc: 0.7017\n",
      "Epoch 14/40\n",
      "14/14 [==============================] - 96s 7s/step - loss: 0.5591 - acc: 0.7891 - val_loss: 0.6067 - val_acc: 0.6575\n",
      "Epoch 15/40\n",
      "14/14 [==============================] - 96s 7s/step - loss: 0.5531 - acc: 0.7891 - val_loss: 0.5827 - val_acc: 0.6796\n",
      "Epoch 16/40\n",
      "14/14 [==============================] - 92s 7s/step - loss: 0.5826 - acc: 0.7536 - val_loss: 0.5755 - val_acc: 0.7348\n",
      "Epoch 17/40\n",
      "14/14 [==============================] - 92s 7s/step - loss: 0.5666 - acc: 0.7583 - val_loss: 0.5991 - val_acc: 0.7127\n",
      "Epoch 18/40\n",
      "14/14 [==============================] - 94s 7s/step - loss: 0.5778 - acc: 0.7346 - val_loss: 0.5997 - val_acc: 0.7127\n",
      "Epoch 19/40\n",
      "14/14 [==============================] - 96s 7s/step - loss: 0.6113 - acc: 0.6801 - val_loss: 0.6006 - val_acc: 0.7072\n",
      "Epoch 20/40\n",
      "14/14 [==============================] - 96s 7s/step - loss: 0.5708 - acc: 0.7464 - val_loss: 0.5866 - val_acc: 0.7182\n",
      "Epoch 21/40\n",
      "14/14 [==============================] - 96s 7s/step - loss: 0.5832 - acc: 0.6801 - val_loss: 0.6052 - val_acc: 0.6906\n",
      "Epoch 22/40\n",
      "14/14 [==============================] - 96s 7s/step - loss: 0.5839 - acc: 0.6635 - val_loss: 0.5902 - val_acc: 0.7182\n",
      "Epoch 23/40\n",
      "14/14 [==============================] - 97s 7s/step - loss: 0.5992 - acc: 0.6374 - val_loss: 0.5788 - val_acc: 0.7127\n",
      "Epoch 24/40\n",
      "14/14 [==============================] - 97s 7s/step - loss: 0.5601 - acc: 0.7180 - val_loss: 0.5796 - val_acc: 0.7182\n",
      "Epoch 25/40\n",
      "14/14 [==============================] - 96s 7s/step - loss: 0.5666 - acc: 0.7607 - val_loss: 0.5801 - val_acc: 0.7182\n",
      "Epoch 26/40\n",
      "14/14 [==============================] - 96s 7s/step - loss: 0.5337 - acc: 0.7725 - val_loss: 0.5815 - val_acc: 0.7127\n",
      "Epoch 27/40\n",
      "14/14 [==============================] - 96s 7s/step - loss: 0.5390 - acc: 0.7536 - val_loss: 0.5818 - val_acc: 0.6796\n",
      "Epoch 28/40\n",
      "14/14 [==============================] - 96s 7s/step - loss: 0.5208 - acc: 0.7701 - val_loss: 0.5670 - val_acc: 0.6961\n",
      "Epoch 29/40\n",
      "14/14 [==============================] - 97s 7s/step - loss: 0.5111 - acc: 0.7867 - val_loss: 0.5764 - val_acc: 0.6575\n",
      "Epoch 30/40\n",
      "14/14 [==============================] - 105s 7s/step - loss: 0.5441 - acc: 0.7346 - val_loss: 0.5793 - val_acc: 0.6685\n",
      "Epoch 31/40\n",
      "14/14 [==============================] - 103s 7s/step - loss: 0.5239 - acc: 0.7867 - val_loss: 0.5656 - val_acc: 0.6906\n",
      "Epoch 32/40\n",
      "14/14 [==============================] - 96s 7s/step - loss: 0.5224 - acc: 0.7986 - val_loss: 0.5569 - val_acc: 0.7348\n",
      "Epoch 33/40\n",
      "14/14 [==============================] - 98s 7s/step - loss: 0.5661 - acc: 0.7915 - val_loss: 0.5582 - val_acc: 0.7403\n",
      "Epoch 34/40\n",
      "14/14 [==============================] - 99s 7s/step - loss: 0.5270 - acc: 0.7938 - val_loss: 0.5885 - val_acc: 0.7348\n",
      "Epoch 35/40\n",
      "14/14 [==============================] - 102s 7s/step - loss: 0.5407 - acc: 0.7370 - val_loss: 0.6038 - val_acc: 0.7182\n",
      "Epoch 36/40\n",
      "14/14 [==============================] - 102s 7s/step - loss: 0.6072 - acc: 0.6303 - val_loss: 0.5929 - val_acc: 0.7127\n",
      "Epoch 37/40\n",
      "14/14 [==============================] - 104s 7s/step - loss: 0.5594 - acc: 0.7062 - val_loss: 0.6182 - val_acc: 0.6796\n",
      "Epoch 38/40\n",
      "14/14 [==============================] - 104s 7s/step - loss: 0.5637 - acc: 0.7275 - val_loss: 0.6223 - val_acc: 0.6740\n",
      "Epoch 39/40\n",
      "14/14 [==============================] - 102s 7s/step - loss: 0.5338 - acc: 0.7464 - val_loss: 0.5975 - val_acc: 0.6575\n",
      "Epoch 40/40\n",
      "14/14 [==============================] - 106s 8s/step - loss: 0.5397 - acc: 0.7749 - val_loss: 0.5959 - val_acc: 0.6630\n"
     ]
    }
   ],
   "source": [
    "h = model.fit(augs_gen.flow(trainImg,trainLabel), epochs = 40, verbose = 1, batch_size = 128,\n",
    "              validation_data  = (preprocess_input(testImg),testLabel))"
   ]
  },
  {
   "cell_type": "code",
   "execution_count": 9,
   "metadata": {
    "execution": {
     "iopub.execute_input": "2021-09-01T19:00:24.641718Z",
     "iopub.status.busy": "2021-09-01T19:00:24.641437Z",
     "iopub.status.idle": "2021-09-01T19:00:24.924576Z",
     "shell.execute_reply": "2021-09-01T19:00:24.923622Z",
     "shell.execute_reply.started": "2021-09-01T19:00:24.641689Z"
    }
   },
   "outputs": [
    {
     "data": {
      "image/png": "[encoded data removed]",
      "text/plain": [
       "<Figure size 720x360 with 2 Axes>"
      ]
     },
     "metadata": {
      "needs_background": "light"
     },
     "output_type": "display_data"
    },
    {
     "name": "stdout",
     "output_type": "stream",
     "text": [
      "Best Validation Accuracy: 74.03314709663391%\n"
     ]
    }
   ],
   "source": [
    "plt.figure(figsize = (10,5))\n",
    "plt.subplot(1,2,1)\n",
    "plt.plot(h.history['acc'],     label = 'Train')\n",
    "plt.plot(h.history['val_acc'], label = 'Validation')\n",
    "plt.title('Accuracy')\n",
    "plt.legend(loc = 'upper left')\n",
    "\n",
    "plt.subplot(1,2,2)\n",
    "plt.plot(h.history['loss']    ,label = 'Train')\n",
    "plt.plot(h.history['val_loss'],label = 'Validation')\n",
    "plt.title('Loss')\n",
    "plt.legend(loc = 'upper left')\n",
    "plt.show()\n",
    "\n",
    "max_val_acc = 100*np.max(h.history['val_acc'])\n",
    "print(\"Best Validation Accuracy: {}%\".format(max_val_acc))"
   ]
  },
  {
   "cell_type": "code",
   "execution_count": 10,
   "metadata": {
    "execution": {
     "iopub.execute_input": "2021-09-01T19:00:24.926815Z",
     "iopub.status.busy": "2021-09-01T19:00:24.926164Z",
     "iopub.status.idle": "2021-09-01T19:00:28.168614Z",
     "shell.execute_reply": "2021-09-01T19:00:28.167848Z",
     "shell.execute_reply.started": "2021-09-01T19:00:24.926770Z"
    }
   },
   "outputs": [],
   "source": [
    "pred = np.argmax(model.predict(preprocess_input(testImg)), axis = -1)\n",
    "y = np.argmax(testLabel, axis = -1)\n",
    "cm = confusion_matrix(pred, y)"
   ]
  },
  {
   "cell_type": "code",
   "execution_count": 11,
   "metadata": {
    "execution": {
     "iopub.execute_input": "2021-09-01T19:00:28.170514Z",
     "iopub.status.busy": "2021-09-01T19:00:28.170137Z",
     "iopub.status.idle": "2021-09-01T19:00:29.150184Z",
     "shell.execute_reply": "2021-09-01T19:00:29.149243Z",
     "shell.execute_reply.started": "2021-09-01T19:00:28.170474Z"
    },
    "scrolled": false
   },
   "outputs": [
    {
     "name": "stdout",
     "output_type": "stream",
     "text": [
      "Confusion Matrix \n",
      "\n"
     ]
    },
    {
     "data": {
      "image/png": "[encoded data removed]",
      "text/plain": [
       "<Figure size 504x504 with 1 Axes>"
      ]
     },
     "metadata": {
      "needs_background": "light"
     },
     "output_type": "display_data"
    }
   ],
   "source": [
    "print(\"Confusion Matrix \\n\")\n",
    "plt.figure(figsize = (7,7))\n",
    "sns.heatmap(data = cm, square = True, annot = True, cbar = False)\n",
    "plt.axis('off')\n",
    "plt.show()"
   ]
  },
  {
   "cell_type": "code",
   "execution_count": 12,
   "metadata": {
    "execution": {
     "iopub.execute_input": "2021-09-01T19:00:29.152205Z",
     "iopub.status.busy": "2021-09-01T19:00:29.151829Z",
     "iopub.status.idle": "2021-09-01T19:00:29.462346Z",
     "shell.execute_reply": "2021-09-01T19:00:29.461239Z",
     "shell.execute_reply.started": "2021-09-01T19:00:29.152167Z"
    }
   },
   "outputs": [],
   "source": [
    "tf.keras.models.save_model(model, filepath='EfficientB0.h5')"
   ]
  },
  {
   "cell_type": "code",
   "execution_count": 13,
   "metadata": {},
   "outputs": [],
   "source": [
    "from sklearn.datasets import make_circles\n",
    "from sklearn.metrics import accuracy_score\n",
    "from sklearn.metrics import precision_score\n",
    "from sklearn.metrics import recall_score\n",
    "from sklearn.metrics import f1_score\n",
    "from sklearn.metrics import cohen_kappa_score\n",
    "from sklearn.metrics import roc_auc_score\n",
    "from sklearn.metrics import confusion_matrix"
   ]
  },
  {
   "cell_type": "code",
   "execution_count": 1,
   "metadata": {},
   "outputs": [
    {
     "ename": "NameError",
     "evalue": "name 'accuracy_score' is not defined",
     "output_type": "error",
     "traceback": [
      "\u001b[1;31m---------------------------------------------------------------------------\u001b[0m",
      "\u001b[1;31mNameError\u001b[0m                                 Traceback (most recent call last)",
      "\u001b[1;32m<ipython-input-1-7988754d69dc>\u001b[0m in \u001b[0;36m<module>\u001b[1;34m\u001b[0m\n\u001b[0;32m      1\u001b[0m \u001b[1;31m# accuracy: (tp + tn) / (p + n)\u001b[0m\u001b[1;33m\u001b[0m\u001b[1;33m\u001b[0m\u001b[1;33m\u001b[0m\u001b[0m\n\u001b[1;32m----> 2\u001b[1;33m \u001b[0maccuracy\u001b[0m \u001b[1;33m=\u001b[0m \u001b[0maccuracy_score\u001b[0m\u001b[1;33m(\u001b[0m\u001b[0mpred\u001b[0m\u001b[1;33m,\u001b[0m \u001b[0my\u001b[0m\u001b[1;33m)\u001b[0m\u001b[1;33m\u001b[0m\u001b[1;33m\u001b[0m\u001b[0m\n\u001b[0m\u001b[0;32m      3\u001b[0m \u001b[0mprint\u001b[0m\u001b[1;33m(\u001b[0m\u001b[1;34m'Accuracy: %f'\u001b[0m \u001b[1;33m%\u001b[0m \u001b[0maccuracy\u001b[0m\u001b[1;33m)\u001b[0m\u001b[1;33m\u001b[0m\u001b[1;33m\u001b[0m\u001b[0m\n\u001b[0;32m      4\u001b[0m \u001b[1;31m# precision tp / (tp + fp)\u001b[0m\u001b[1;33m\u001b[0m\u001b[1;33m\u001b[0m\u001b[1;33m\u001b[0m\u001b[0m\n\u001b[0;32m      5\u001b[0m \u001b[0mprecision\u001b[0m \u001b[1;33m=\u001b[0m \u001b[0mprecision_score\u001b[0m\u001b[1;33m(\u001b[0m\u001b[0mpred\u001b[0m\u001b[1;33m,\u001b[0m \u001b[0my\u001b[0m\u001b[1;33m)\u001b[0m\u001b[1;33m\u001b[0m\u001b[1;33m\u001b[0m\u001b[0m\n",
      "\u001b[1;31mNameError\u001b[0m: name 'accuracy_score' is not defined"
     ]
    }
   ],
   "source": [
    "# accuracy: (tp + tn) / (p + n)\n",
    "accuracy = accuracy_score(pred, y)\n",
    "print('Accuracy: %f' % accuracy)\n",
    "# precision tp / (tp + fp)\n",
    "precision = precision_score(pred, y)\n",
    "print('Precision: %f' % precision)\n",
    "# recall: tp / (tp + fn)\n",
    "recall = recall_score(pred, y)\n",
    "print('Recall: %f' % recall)\n",
    "# f1: 2 tp / (2 tp + fp + fn)\n",
    "f1 = f1_score(pred, y)\n",
    "print('F1 score: %f' % f1)\n",
    " \n",
    "# kappa\n",
    "kappa = cohen_kappa_score(pred, y)\n",
    "print('Cohens kappa: %f' % kappa)\n",
    "# ROC AUC\n",
    "auc = roc_auc_score(pred, y)\n",
    "print('ROC AUC: %f' % auc)\n",
    "# confusion matrix\n",
    "cm = confusion_matrix(pred, y)\n",
    "print(matrix)"
   ]
  },
  {
   "cell_type": "code",
   "execution_count": null,
   "metadata": {},
   "outputs": [],
   "source": [
    "from sklearn.metrics import confusion_matrix\n",
    "total=sum(sum(cm))\n",
    "Accuracy = (cm[0,0]+cm[1,1])/total\n",
    "Specificity = cm[0,0]/(cm[0,0]+cm[0,1])\n",
    "Sensitivity = cm[1,1]/(cm[1,0]+cm[1,1])\n",
    "\n",
    "print(\"Accuracy:\",(cm[0,0]+cm[1,1])/total)\n",
    "print(\"Specificity:\",cm[0,0]/(cm[0,0]+cm[0,1]))\n",
    "print(\"Sensitivity:\",cm[1,1]/(cm[1,0]+cm[1,1]))"
   ]
  }
 ],
 "metadata": {
  "kernelspec": {
   "display_name": "Python 3",
   "language": "python",
   "name": "python3"
  },
  "language_info": {
   "codemirror_mode": {
    "name": "ipython",
    "version": 3
   },
   "file_extension": ".py",
   "mimetype": "text/x-python",
   "name": "python",
   "nbconvert_exporter": "python",
   "pygments_lexer": "ipython3",
   "version": "3.6.9"
  }
 },
 "nbformat": 4,
 "nbformat_minor": 4
}
